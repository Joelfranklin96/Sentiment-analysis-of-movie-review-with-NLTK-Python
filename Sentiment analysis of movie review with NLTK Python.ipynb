{
  "nbformat": 4,
  "nbformat_minor": 0,
  "metadata": {
    "colab": {
      "name": "Untitled6 (3).ipynb",
      "provenance": []
    },
    "kernelspec": {
      "name": "python3",
      "display_name": "Python 3"
    }
  },
  "cells": [
    {
      "cell_type": "code",
      "metadata": {
        "id": "-CZ5NR0GQrxc",
        "colab_type": "code",
        "colab": {}
      },
      "source": [
        "# Importing the necessary packages\n",
        "\n",
        "import nltk\n",
        "from nltk.corpus import movie_reviews"
      ],
      "execution_count": 0,
      "outputs": []
    },
    {
      "cell_type": "code",
      "metadata": {
        "id": "hlsBeJHiLgn8",
        "colab_type": "code",
        "colab": {}
      },
      "source": [
        "# Let us explore 'movie_reviews'"
      ],
      "execution_count": 0,
      "outputs": []
    },
    {
      "cell_type": "code",
      "metadata": {
        "id": "LPKqd6S6fGxJ",
        "colab_type": "code",
        "colab": {}
      },
      "source": [
        "nltk.download()"
      ],
      "execution_count": 0,
      "outputs": []
    },
    {
      "cell_type": "code",
      "metadata": {
        "id": "XMmRecI1LkJZ",
        "colab_type": "code",
        "outputId": "590d0f51-84a8-4810-ff2d-5760be24a1f0",
        "colab": {
          "base_uri": "https://localhost:8080/",
          "height": 34
        }
      },
      "source": [
        "# A list of all the words in 'movie_reviews'\n",
        "\n",
        "movie_reviews.words()"
      ],
      "execution_count": 13,
      "outputs": [
        {
          "output_type": "execute_result",
          "data": {
            "text/plain": [
              "['plot', ':', 'two', 'teen', 'couples', 'go', 'to', ...]"
            ]
          },
          "metadata": {
            "tags": []
          },
          "execution_count": 13
        }
      ]
    },
    {
      "cell_type": "code",
      "metadata": {
        "id": "MbuoU0bBLn-E",
        "colab_type": "code",
        "outputId": "fc7d7afb-4a5c-411c-bca3-312851a7f605",
        "colab": {
          "base_uri": "https://localhost:8080/",
          "height": 34
        }
      },
      "source": [
        "# Prints total number of words in 'movie_reviews'\n",
        "\n",
        "len(movie_reviews.words())"
      ],
      "execution_count": 0,
      "outputs": [
        {
          "output_type": "execute_result",
          "data": {
            "text/plain": [
              "1583820"
            ]
          },
          "metadata": {
            "tags": []
          },
          "execution_count": 101
        }
      ]
    },
    {
      "cell_type": "code",
      "metadata": {
        "id": "oIOvgVmULskL",
        "colab_type": "code",
        "outputId": "e4f25c7a-b002-4518-e146-0045fef710ad",
        "colab": {
          "base_uri": "https://localhost:8080/",
          "height": 34
        }
      },
      "source": [
        "movie_reviews.categories()"
      ],
      "execution_count": 0,
      "outputs": [
        {
          "output_type": "execute_result",
          "data": {
            "text/plain": [
              "['neg', 'pos']"
            ]
          },
          "metadata": {
            "tags": []
          },
          "execution_count": 102
        }
      ]
    },
    {
      "cell_type": "code",
      "metadata": {
        "id": "hArNJ4OKLy6C",
        "colab_type": "code",
        "colab": {}
      },
      "source": [
        "# Displays frequency of words in 'movie_reviews'\n",
        "\n",
        "nltk.FreqDist(movie_reviews.words())"
      ],
      "execution_count": 0,
      "outputs": []
    },
    {
      "cell_type": "code",
      "metadata": {
        "id": "3Cngld8NrRSY",
        "colab_type": "code",
        "outputId": "8b66fa0d-9b8d-45b5-f928-e7b7ab3c5311",
        "colab": {
          "base_uri": "https://localhost:8080/",
          "height": 34
        }
      },
      "source": [
        "# Prints frequency of the word 'happy'.\n",
        "\n",
        "nltk.FreqDist(movie_reviews.words())['happy']"
      ],
      "execution_count": 0,
      "outputs": [
        {
          "output_type": "execute_result",
          "data": {
            "text/plain": [
              "215"
            ]
          },
          "metadata": {
            "tags": []
          },
          "execution_count": 104
        }
      ]
    },
    {
      "cell_type": "code",
      "metadata": {
        "id": "d-mwLvShpeOB",
        "colab_type": "code",
        "outputId": "d6ae9750-4d31-42a3-956b-507c56c6cb32",
        "colab": {
          "base_uri": "https://localhost:8080/",
          "height": 272
        }
      },
      "source": [
        "# Displays frequency of 15 most common words in 'movie_reviews'\n",
        "\n",
        "nltk.FreqDist(movie_reviews.words()).most_common(15)"
      ],
      "execution_count": 0,
      "outputs": [
        {
          "output_type": "execute_result",
          "data": {
            "text/plain": [
              "[(',', 77717),\n",
              " ('the', 76529),\n",
              " ('.', 65876),\n",
              " ('a', 38106),\n",
              " ('and', 35576),\n",
              " ('of', 34123),\n",
              " ('to', 31937),\n",
              " (\"'\", 30585),\n",
              " ('is', 25195),\n",
              " ('in', 21822),\n",
              " ('s', 18513),\n",
              " ('\"', 17612),\n",
              " ('it', 16107),\n",
              " ('that', 15924),\n",
              " ('-', 15595)]"
            ]
          },
          "metadata": {
            "tags": []
          },
          "execution_count": 105
        }
      ]
    },
    {
      "cell_type": "code",
      "metadata": {
        "id": "BfgqxL_Splrg",
        "colab_type": "code",
        "colab": {}
      },
      "source": [
        "# Prints all fileids\n",
        "\n",
        "movie_reviews.fileids()\n",
        "\n",
        "# Prints file ids of positive reviews\n",
        "\n",
        "movie_reviews.fileids('pos')\n",
        "\n",
        "# Prints file ids of negative reviews.\n",
        "\n",
        "movie_reviews.fileids('neg')"
      ],
      "execution_count": 0,
      "outputs": []
    },
    {
      "cell_type": "code",
      "metadata": {
        "id": "qESkD9YivcT1",
        "colab_type": "code",
        "outputId": "8bad9b61-6003-402e-9b63-9a5ed58b6c15",
        "colab": {
          "base_uri": "https://localhost:8080/",
          "height": 34
        }
      },
      "source": [
        "# Prints all words in movie_review with file id 'neg/cv001_19502.txt'\n",
        "\n",
        "movie_reviews.words('neg/cv947_11316.txt')"
      ],
      "execution_count": 0,
      "outputs": [
        {
          "output_type": "execute_result",
          "data": {
            "text/plain": [
              "['what', 'were', 'they', 'thinking', '?', 'nostalgia', ...]"
            ]
          },
          "metadata": {
            "tags": []
          },
          "execution_count": 106
        }
      ]
    },
    {
      "cell_type": "code",
      "metadata": {
        "id": "_rCj07-0m9t3",
        "colab_type": "code",
        "colab": {}
      },
      "source": [
        "# Now that we have explored the data set, let us get into the project"
      ],
      "execution_count": 0,
      "outputs": []
    },
    {
      "cell_type": "code",
      "metadata": {
        "id": "oZu-zPdk1EEk",
        "colab_type": "code",
        "colab": {}
      },
      "source": [
        "# all_words is a dictionary which contains the frequency of words in 'movie_reviews'\n",
        "\n",
        "all_words = nltk.FreqDist(movie_reviews.words())"
      ],
      "execution_count": 0,
      "outputs": []
    },
    {
      "cell_type": "code",
      "metadata": {
        "id": "Ufku1wWinpqO",
        "colab_type": "code",
        "outputId": "a6ff615e-3992-4994-84a7-ed7e789aa341",
        "colab": {
          "base_uri": "https://localhost:8080/",
          "height": 34
        }
      },
      "source": [
        "len(all_words)"
      ],
      "execution_count": 0,
      "outputs": [
        {
          "output_type": "execute_result",
          "data": {
            "text/plain": [
              "39768"
            ]
          },
          "metadata": {
            "tags": []
          },
          "execution_count": 108
        }
      ]
    },
    {
      "cell_type": "code",
      "metadata": {
        "id": "Ckr2GnaERrBR",
        "colab_type": "code",
        "colab": {}
      },
      "source": [
        "# Defining the feature_vector\n",
        "\n",
        "feature_vector = list(all_words)[:4000]"
      ],
      "execution_count": 0,
      "outputs": []
    },
    {
      "cell_type": "code",
      "metadata": {
        "id": "L30Vb18bcpr1",
        "colab_type": "code",
        "colab": {}
      },
      "source": [
        "# Let us try to manually analyze the sentiment of one movie review."
      ],
      "execution_count": 0,
      "outputs": []
    },
    {
      "cell_type": "code",
      "metadata": {
        "id": "kg3_vHilIjIN",
        "colab_type": "code",
        "colab": {}
      },
      "source": [
        "# Initialization\n",
        "\n",
        "feature = {}\n",
        "\n",
        "# One movie review is chosen\n",
        "\n",
        "review = movie_reviews.words('neg/cv954_19932.txt')\n",
        "\n",
        "# 'True' is assigned if word in feature_vector can also be found in review. Otherwise 'False'\n",
        "\n",
        "for x in range(len(feature_vector)):\n",
        "  feature[feature_vector[x]] = feature_vector[x] in review\n",
        "\n",
        "# The words which are assigned 'True' are printed \n",
        "\n",
        "[x for x in feature_vector if feature[x] == True]"
      ],
      "execution_count": 0,
      "outputs": []
    },
    {
      "cell_type": "code",
      "metadata": {
        "id": "W01-4MOQbsRS",
        "colab_type": "code",
        "colab": {}
      },
      "source": [
        "# Now let us try to analyze the sentiments of movie reviews using Machine Learning."
      ],
      "execution_count": 0,
      "outputs": []
    },
    {
      "cell_type": "code",
      "metadata": {
        "id": "-ZfmDKgXcm0t",
        "colab_type": "code",
        "colab": {}
      },
      "source": [
        "# Document is a list of (words of review, category of review)\n",
        "\n",
        "document = [(movie_reviews.words(file_id),category) for file_id in movie_reviews.fileids() for category in movie_reviews.categories(file_id)]\n",
        "\n",
        "document"
      ],
      "execution_count": 0,
      "outputs": []
    },
    {
      "cell_type": "code",
      "metadata": {
        "id": "oDw1QSywux4C",
        "colab_type": "code",
        "outputId": "8b31d99b-7d48-43e3-ae3c-5d45ff8642e3",
        "colab": {
          "base_uri": "https://localhost:8080/",
          "height": 34
        }
      },
      "source": [
        "len(document)"
      ],
      "execution_count": 18,
      "outputs": [
        {
          "output_type": "execute_result",
          "data": {
            "text/plain": [
              "2000"
            ]
          },
          "metadata": {
            "tags": []
          },
          "execution_count": 18
        }
      ]
    },
    {
      "cell_type": "code",
      "metadata": {
        "id": "YucF6hszERvB",
        "colab_type": "code",
        "colab": {}
      },
      "source": [
        "# we define a function that finds the features\n",
        "\n",
        "def find_feature(word_list):\n",
        "\n",
        "  # Initialization\n",
        "\n",
        "  feature = {}\n",
        "\n",
        "  # For loop to find the feature. 'True' is assigned if word in feature_vector can also be found in review. Otherwise 'False'\n",
        "\n",
        "  for x in feature_vector:\n",
        "    feature[x] = x in word_list\n",
        "\n",
        "  return feature"
      ],
      "execution_count": 0,
      "outputs": []
    },
    {
      "cell_type": "code",
      "metadata": {
        "id": "K4ZCcoo4Ks4R",
        "colab_type": "code",
        "colab": {}
      },
      "source": [
        "# Checking the function 'find_feature'\n",
        "\n",
        "find_feature(document[0][0])"
      ],
      "execution_count": 0,
      "outputs": []
    },
    {
      "cell_type": "code",
      "metadata": {
        "id": "w0KmT_vQa3pU",
        "colab_type": "code",
        "colab": {}
      },
      "source": [
        "# Feature_sets stores the 'feature' of every review\n",
        "\n",
        "feature_sets = [(find_feature(word_list),category) for (word_list,category) in document]"
      ],
      "execution_count": 0,
      "outputs": []
    },
    {
      "cell_type": "code",
      "metadata": {
        "id": "ER_v1u5jESBC",
        "colab_type": "code",
        "outputId": "65246078-5579-404f-8a48-02bd9ea55292",
        "colab": {
          "base_uri": "https://localhost:8080/",
          "height": 34
        }
      },
      "source": [
        "len(feature_sets)"
      ],
      "execution_count": 0,
      "outputs": [
        {
          "output_type": "execute_result",
          "data": {
            "text/plain": [
              "2000"
            ]
          },
          "metadata": {
            "tags": []
          },
          "execution_count": 136
        }
      ]
    },
    {
      "cell_type": "code",
      "metadata": {
        "id": "mYfWc0P9yDS4",
        "colab_type": "code",
        "colab": {}
      },
      "source": [
        "# The necessary packages and classifiers are imported\n",
        "\n",
        "from nltk.classify.scikitlearn import SklearnClassifier\n",
        "from sklearn.svm import SVC\n",
        "from sklearn import model_selection"
      ],
      "execution_count": 0,
      "outputs": []
    },
    {
      "cell_type": "code",
      "metadata": {
        "id": "F-jnoiNExz01",
        "colab_type": "code",
        "colab": {}
      },
      "source": [
        "# Splitting into training and testing sets\n",
        "\n",
        "train_set,test_set = model_selection.train_test_split(feature_sets,test_size = 0.25)"
      ],
      "execution_count": 0,
      "outputs": []
    },
    {
      "cell_type": "code",
      "metadata": {
        "id": "tAzM_p3aRiWu",
        "colab_type": "code",
        "colab": {}
      },
      "source": [
        "print(len(train_set))\n",
        "print(len(test_set))"
      ],
      "execution_count": 0,
      "outputs": []
    },
    {
      "cell_type": "code",
      "metadata": {
        "id": "wh5pKTWBCpet",
        "colab_type": "code",
        "outputId": "afc52c69-f876-4cda-c21b-af89364d4482",
        "colab": {
          "base_uri": "https://localhost:8080/",
          "height": 85
        }
      },
      "source": [
        "# The model is trained on Training data\n",
        "\n",
        "model = SklearnClassifier(SVC(kernel = 'linear'))\n",
        "model.train(train_set)"
      ],
      "execution_count": 0,
      "outputs": [
        {
          "output_type": "execute_result",
          "data": {
            "text/plain": [
              "<SklearnClassifier(SVC(C=1.0, cache_size=200, class_weight=None, coef0=0.0,\n",
              "    decision_function_shape='ovr', degree=3, gamma='auto_deprecated',\n",
              "    kernel='linear', max_iter=-1, probability=False, random_state=None,\n",
              "    shrinking=True, tol=0.001, verbose=False))>"
            ]
          },
          "metadata": {
            "tags": []
          },
          "execution_count": 140
        }
      ]
    },
    {
      "cell_type": "code",
      "metadata": {
        "id": "cJ_8IYzHLbDu",
        "colab_type": "code",
        "colab": {}
      },
      "source": [
        "# The trained model is tested on Testing data and accuracy is calculated\n",
        "\n",
        "accuracy = nltk.classify.accuracy(model, test_set)\n",
        "\n",
        "print('SVC Accuracy : {}'.format(accuracy))"
      ],
      "execution_count": 0,
      "outputs": []
    }
  ]
}